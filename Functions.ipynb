{
  "nbformat": 4,
  "nbformat_minor": 0,
  "metadata": {
    "colab": {
      "provenance": []
    },
    "kernelspec": {
      "name": "python3",
      "display_name": "Python 3"
    },
    "language_info": {
      "name": "python"
    }
  },
  "cells": [
    {
      "cell_type": "markdown",
      "source": [
        "#Question 1: What is the difference between a function and a method in python?\n",
        "\n",
        "\n"
      ],
      "metadata": {
        "id": "385jR1jYJiCG"
      }
    },
    {
      "cell_type": "markdown",
      "source": [
        "Ans.In Python, the main difference is that a method is a function that belongs to an object or class, while a function is an independent block of code.\n",
        "\n",
        "Methods are called on an object using dot notation, whereas functions are called by their name.\n",
        "\n",
        "Key Distinctions:\n",
        "\n",
        "\n",
        "Association: Methods are defined inside a class and are associated with objects of that class. Functions do not need to be associated with any class or object.\n",
        "Invocation: You call a method on a specific object (e.g., my_list.append(item)), and it can access or modify that object's data. Functions are called by their name (e.g., print(\"Hello\")) and operate on the data passed to them as arguments.\n",
        "\n",
        "The self Parameter: Methods defined within a class must have an extra first parameter, conventionally named self, which refers to the object instance itself. Functions do not have this requirement.\n",
        "\n",
        "In essence, all methods are functions, but not all functions are methods. The distinction is central to object-oriented programming in Python."
      ],
      "metadata": {
        "id": "fJheZ15-LEkF"
      }
    },
    {
      "cell_type": "markdown",
      "source": [
        "#Q2. Explain the concept of function arguments and parameters in Python."
      ],
      "metadata": {
        "id": "G7GetBoFLmA-"
      }
    },
    {
      "cell_type": "markdown",
      "source": [
        "Ans. In Python, parameters are the variables listed in a function's definition, while arguments are the actual values passed to the function when it is called. Parameters act as placeholders, and arguments fill those placeholders during execution.\n",
        "\n",
        "Types of Arguments\n",
        "\n",
        "Python supports several types of arguments, providing flexibility in how you call functions:\n",
        "\n",
        "Positional Arguments These are the most common type, where arguments are matched to parameters based on their order. The number of arguments must match the number of parameters."
      ],
      "metadata": {
        "id": "GrysnEoqMHI1"
      }
    },
    {
      "cell_type": "code",
      "source": [
        "def subtract(a, b): return a - b\n",
        "result = subtract(10, 5)"
      ],
      "metadata": {
        "id": "QQKlWI9KMWnk"
      },
      "execution_count": null,
      "outputs": []
    },
    {
      "cell_type": "markdown",
      "source": [
        "Keyword Arguments You can pass arguments using the parameter name, which means the order doesn't matter. This improves code readability.\n",
        "  "
      ],
      "metadata": {
        "id": "-EHtbLBbMcVJ"
      }
    },
    {
      "cell_type": "code",
      "source": [
        "result = subtract(b=5, a=10)\n"
      ],
      "metadata": {
        "id": "ItOwA1hDMett"
      },
      "execution_count": null,
      "outputs": []
    },
    {
      "cell_type": "markdown",
      "source": [
        "Default Arguments A parameter can have a default value, which is used if no argument is provided for it during the function call. This makes the argument optional.\n"
      ],
      "metadata": {
        "id": "y1EBnMlbMg6K"
      }
    },
    {
      "cell_type": "code",
      "source": [
        "def greet(name, msg=\"Hello\"): print(f\"{msg}, {name}!\")\n",
        "greet(\"Alice\")"
      ],
      "metadata": {
        "colab": {
          "base_uri": "https://localhost:8080/"
        },
        "id": "4MgDYSfyMjoP",
        "outputId": "8ddb4a0d-0c24-4a2b-cc7c-63c56e8327a9"
      },
      "execution_count": null,
      "outputs": [
        {
          "output_type": "stream",
          "name": "stdout",
          "text": [
            "Hello, Alice!\n"
          ]
        }
      ]
    },
    {
      "cell_type": "markdown",
      "source": [
        "Variable-Length Arguments When you don't know how many arguments will be passed, you can use args for non-keyword arguments and kwargs for keyword arguments.\n",
        "\n",
        "args collects extra positional arguments into a tuple.\n",
        "kwargs collects extra keyword arguments into a dictionary"
      ],
      "metadata": {
        "id": "MEXlTlPjMmOH"
      }
    },
    {
      "cell_type": "markdown",
      "source": [
        "#Q3. What are the different ways to define and call a function in Python?"
      ],
      "metadata": {
        "id": "Le-QxAVJMz9X"
      }
    },
    {
      "cell_type": "markdown",
      "source": [
        "Ans. In Python, functions can be defined using the def keyword or lambda for anonymous functions, and are called by their name followed by parentheses (). The parentheses may contain arguments passed to the function.\n",
        "\n",
        "Defining a Function\n",
        "\n",
        "There are two primary ways to define a function in Python:\n",
        "\n",
        "Using the def keyword This is the most common method. It involves the def keyword, a function name, parentheses for parameters, and a colon to start the indented function body."
      ],
      "metadata": {
        "id": "ZVbMs9m6NArm"
      }
    },
    {
      "cell_type": "code",
      "source": [
        "def greet(name):\n",
        "    \"\"\"This function greets the person passed in as a parameter.\"\"\"\n",
        "    print(f\"Hello, {name}!\")\n"
      ],
      "metadata": {
        "id": "08C1b1RdNN-3"
      },
      "execution_count": null,
      "outputs": []
    },
    {
      "cell_type": "markdown",
      "source": [
        "Using lambda Expressions This creates a small, anonymous function. Lambda functions can have multiple arguments but only a single expression, the result of which is returned."
      ],
      "metadata": {
        "id": "o2-VQdLiMuWp"
      }
    },
    {
      "cell_type": "code",
      "source": [
        "# A lambda function that adds two numbers\n",
        "add = lambda x, y: x + y\n"
      ],
      "metadata": {
        "id": "in9_Y1PMNPNM"
      },
      "execution_count": null,
      "outputs": []
    },
    {
      "cell_type": "markdown",
      "source": [
        "Calling a Function\n",
        "Once defined, you can call or invoke a function in several ways:\n",
        "Direct Call This is the most straightforward way, using the function's name followed by parentheses with any required arguments."
      ],
      "metadata": {
        "id": "qTev3T8rNXJq"
      }
    },
    {
      "cell_type": "code",
      "source": [
        "  greet(\"World\")\n",
        "add(5, 3)\n"
      ],
      "metadata": {
        "colab": {
          "base_uri": "https://localhost:8080/"
        },
        "id": "6emeorCINYF6",
        "outputId": "92b201e8-a341-4100-8a4b-83efefceade9"
      },
      "execution_count": null,
      "outputs": [
        {
          "output_type": "stream",
          "name": "stdout",
          "text": [
            "Hello, World!\n"
          ]
        },
        {
          "output_type": "execute_result",
          "data": {
            "text/plain": [
              "8"
            ]
          },
          "metadata": {},
          "execution_count": 10
        }
      ]
    },
    {
      "cell_type": "markdown",
      "source": [
        "Recursive Call A function can call itself. This is known as recursion and is useful for tasks that can be broken down into smaller, similar sub-tasks. A base case is necessary to prevent an infinite loop.\n"
      ],
      "metadata": {
        "id": "687jLoYDNdK0"
      }
    },
    {
      "cell_type": "code",
      "source": [
        "def factorial(n):\n",
        "    if n == 1:\n",
        "        return 1\n",
        "    else:\n",
        "        return n * factorial(n-1)\n"
      ],
      "metadata": {
        "id": "yfzBj2HmNd30"
      },
      "execution_count": null,
      "outputs": []
    },
    {
      "cell_type": "markdown",
      "source": [
        "Calling from Another File You can import a function from one Python file into another and then call it.\n"
      ],
      "metadata": {
        "id": "V8wp_yTRNifD"
      }
    },
    {
      "cell_type": "code",
      "source": [
        "# In a file named my_module.py\n",
        "# def my_function():\n",
        "#     print(\"Hello from the module!\")\n",
        "\n",
        "# In another file\n",
        "# from my_module import my_function\n",
        "# my_function()\n"
      ],
      "metadata": {
        "id": "NivSohaqNjJu"
      },
      "execution_count": null,
      "outputs": []
    },
    {
      "cell_type": "markdown",
      "source": [
        "Nested Function Call A function defined inside another function (a nested function) can be called within the scope of the outer function.\n"
      ],
      "metadata": {
        "id": "xcq0Vhc0NngC"
      }
    },
    {
      "cell_type": "code",
      "source": [
        "def outer_function():\n",
        "    print(\"This is the outer function.\")\n",
        "    def inner_function():\n",
        "        print(\"This is the inner function.\")\n",
        "    inner_function()\n"
      ],
      "metadata": {
        "id": "A3uhQ6DENf6_"
      },
      "execution_count": null,
      "outputs": []
    },
    {
      "cell_type": "markdown",
      "source": [
        "#Q4. What is the purpose of the `return` statement in a Python function?"
      ],
      "metadata": {
        "id": "tqV2_7NJNrOx"
      }
    },
    {
      "cell_type": "markdown",
      "source": [
        "Ans. The return statement in a Python function serves two primary purposes: to exit the function and to send a value back to the code that called it.\n",
        "\n",
        "#Exits the function\n",
        "\n",
        "When Python encounters a return statement, it immediately terminates the function's execution. Any code written after the return statement is not executed. This feature is useful for exiting a function early, for example, if an error condition is met.\n",
        "\n",
        "#Returns a value to the caller\n",
        "\n",
        "The main purpose of return is to pass data or the result of a computation back to the part of the program that invoked the function.\n",
        "\n",
        "The returned value can be stored in a variable, used in an expression, or passed to another function.\n",
        "\n",
        "A function can return any Python object, such as a number, string, list, dictionary, or even another function.\n",
        "\n",
        "To return multiple values, you can use a single return statement with the values separated by commas. Python automatically packages them into a tuple.\n",
        "\n",
        "#What happens if no return is used?\n",
        "\n",
        "If a function doesn't have a return statement, or if return is used without an expression, it will implicitly return the special value None.\n",
        "\n",
        "None is a unique data type in Python that signifies the absence of a value.\n",
        "\n"
      ],
      "metadata": {
        "id": "3WPM1CvQNxnw"
      }
    },
    {
      "cell_type": "code",
      "source": [
        "# A function that returns a single value\n",
        "def add(x, y):\n",
        "  return x + y\n",
        "\n",
        "result = add(5, 3) # The function returns 8, which is stored in 'result'\n",
        "print(result)\n",
        "# Output: 8\n",
        "\n",
        "# A function that returns multiple values\n",
        "def get_name_and_age():\n",
        "  return \"Alice\", 30\n",
        "\n",
        "name, age = get_name_and_age() # The function returns a tuple, which is unpacked into two variables\n",
        "print(f\"Name: {name}, Age: {age}\")\n",
        "# Output: Name: Alice, Age: 30\n",
        "\n",
        "# A function that returns None by default\n",
        "def greet(name):\n",
        "  print(f\"Hello, {name}!\")\n",
        "  # There is no return statement, so the function implicitly returns None\n",
        "\n",
        "return_value = greet(\"Bob\")\n",
        "print(f\"The return value is: {return_value}\")\n",
        "# Output:\n",
        "# Hello, Bob!\n",
        "# The return value is: None\n"
      ],
      "metadata": {
        "colab": {
          "base_uri": "https://localhost:8080/"
        },
        "id": "U3-Tbd3s7K23",
        "outputId": "8394078c-742a-4b82-a101-10dea91439f7"
      },
      "execution_count": 1,
      "outputs": [
        {
          "output_type": "stream",
          "name": "stdout",
          "text": [
            "8\n",
            "Name: Alice, Age: 30\n",
            "Hello, Bob!\n",
            "The return value is: None\n"
          ]
        }
      ]
    },
    {
      "cell_type": "markdown",
      "source": [
        "#Q5. What are iterators in Python and how do they differ from iterables?"
      ],
      "metadata": {
        "id": "oscApWZm7OpK"
      }
    },
    {
      "cell_type": "markdown",
      "source": [
        "Ans. In Python, the key difference between iterables and iterators is their role in the iteration process: an iterable is an object you can loop over, while an iterator is an object that keeps track of the iteration's state.\n",
        "\n",
        "#Iterables\n",
        "\n",
        "An iterable is any object that can be iterated over, meaning it can return its members one at a time. You can use an iterable in a for loop or with other functions that expect a sequence of items.\n",
        "\n",
        "Common examples of iterables include:\n",
        "\n",
        "Lists (['a', 'b', 'c'])\n",
        "Tuples (('apple', 'banana'))\n",
        "Strings ('hello')\n",
        "Dictionaries ({'a': 1, 'b': 2})\n",
        "Sets ({'x', 'y'})\n",
        "An iterable must define the __iter__() method, which is responsible for returning an iterator.\n",
        "\n",
        "#Iterators\n",
        "\n",
        "An iterator is an object that generates the next item of an iterable. It's an internal \"stateful\" object that knows which item comes next. You can manually get an iterator from an iterable using the built-in iter() function.\n",
        "\n",
        "An iterator must implement the iterator protocol, which consists of two methods:\n",
        "\n",
        "__iter__(): Returns the iterator object itself.\n",
        "__next__(): Returns the next item from the iterable. When all items have been returned, it raises a StopIteration exception.\n",
        "\n",
        "#Iterable\n",
        "\n",
        "Purpose = An object that can be looped over.\n",
        "\n",
        "Method(s)= Must implement __iter__().\n",
        "\n",
        "State = Holds the data, but no state of its own.\n",
        "\n",
        "Memory = Stores all elements in memory, which can be inefficient for large datasets.\n",
        "\n",
        "Mutability = A list is an iterable you can modify.\n",
        "\n",
        "Relationship = Not every iterable is an iterator (e.g., a list).\n",
        "\n",
        "\n",
        "#Iterator\n",
        "\n",
        "Purpose = An object that performs the actual iteration.\n",
        "\n",
        "Method(s)\t= Must implement __iter__() and __next__().\n",
        "\n",
        "State = Maintains its internal state to track its position in the sequence.\n",
        "\n",
        "Memory = Is memory-efficient because it generates items one by one, making it ideal for large datasets.\n",
        "\n",
        "Mutability = An iterator is single-use; once you've exhausted it, you can't reuse it.\n",
        "\n",
        "Relationship = Every iterator is also an iterable (because it has an __iter__() method).\n",
        "\n",
        "\n",
        "#How they work together\n",
        "\n",
        "Python's for loop implicitly manages the relationship between iterables and iterators.\n",
        "\n",
        "\n"
      ],
      "metadata": {
        "id": "x7PdPyM67Vdd"
      }
    },
    {
      "cell_type": "code",
      "source": [
        "my_list = [10, 20, 30] # This is an iterable\n",
        "\n",
        "# The `for` loop does the following automatically:\n",
        "# 1. Calls iter(my_list) to get an iterator object.\n",
        "# 2. Calls next() on the iterator to get each item.\n",
        "# 3. Catches the StopIteration exception to end the loop.\n",
        "\n",
        "for item in my_list:\n",
        "    print(item)\n",
        "\n",
        "# Manual example to show the process\n",
        "my_iterator = iter(my_list) # Get an iterator\n",
        "print(next(my_iterator))    # 10\n",
        "print(next(my_iterator))    # 20\n",
        "print(next(my_iterator))    # 30\n",
        "# print(next(my_iterator))  # Raises StopIteration\n"
      ],
      "metadata": {
        "colab": {
          "base_uri": "https://localhost:8080/"
        },
        "id": "ICs9tnkI9MtM",
        "outputId": "774a3b28-bae5-430a-daf7-7551b5cc612a"
      },
      "execution_count": 2,
      "outputs": [
        {
          "output_type": "stream",
          "name": "stdout",
          "text": [
            "10\n",
            "20\n",
            "30\n",
            "10\n",
            "20\n",
            "30\n"
          ]
        }
      ]
    },
    {
      "cell_type": "markdown",
      "source": [
        "#Q6.Explain the concept of generators in Python and how they are define?"
      ],
      "metadata": {
        "id": "MJlCp39I9ONR"
      }
    },
    {
      "cell_type": "markdown",
      "source": [
        "Ans. A generator in Python is a special type of function or expression that creates an iterator, which generates items one by one instead of all at once. Unlike a regular function, which uses return to send back a single value and then terminates, a generator uses the yield keyword.\n",
        "\n",
        "#The concept of generators\n",
        "\n",
        "The primary benefit of generators is lazy evaluation, which makes them extremely memory-efficient, especially when dealing with large datasets or potentially infinite sequences.\n",
        "\n",
        "#How yield works\n",
        "\n",
        "When a generator function is called, it doesn't run the code immediately. Instead, it returns a generator object.\n",
        "\n",
        "When a value is requested from this object (e.g., in a for loop or by calling next()), the function executes until it encounters the yield keyword.\n",
        "\n",
        "At yield, the function pauses its execution, saves its state (including the values of local variables), and returns the yielded value to the caller.\n",
        "\n",
        "When the next value is requested, the function resumes exactly where it left off, with its state restored.\n",
        "\n",
        "The generator will continue this process until it runs out of items to yield or encounters a return statement, at which point it raises a StopIteration exception.\n",
        "\n",
        "#Analogy: A vending machine\n",
        "\n",
        "You can think of a generator like a vending machine.\n",
        "\n",
        "When you \"call\" the generator, you get the vending machine object.\n",
        "\n",
        "Each time you \"ask for the next item\" (press a button), the machine dispenses one item and waits for the next request.\n",
        "\n",
        "It remembers how many items it has left and what the next item is.\n",
        "\n",
        "Once all items are gone, it stops.\n",
        "\n",
        "#How to define generators\n",
        "\n",
        "Generators can be defined in two main ways:\n",
        "\n",
        "#Generator functions\n",
        "\n",
        "A generator function is defined like a normal function but contains one or more yield statements\n",
        "\n",
        "\n",
        "\n",
        "\n",
        "\n"
      ],
      "metadata": {
        "id": "XMbiN5Bl9Xil"
      }
    },
    {
      "cell_type": "code",
      "source": [
        "def my_generator():\n",
        "    yield \"first\"\n",
        "    yield \"second\"\n",
        "    yield \"third\"\n",
        "\n",
        "# Example usage with a for loop\n",
        "for item in my_generator():\n",
        "    print(item)\n",
        "# Output:\n",
        "# first\n",
        "# second\n",
        "# third\n"
      ],
      "metadata": {
        "colab": {
          "base_uri": "https://localhost:8080/"
        },
        "id": "q6KLv7cX-8WB",
        "outputId": "f90b69fe-f5d1-4a6d-81a9-9e52f4167783"
      },
      "execution_count": 3,
      "outputs": [
        {
          "output_type": "stream",
          "name": "stdout",
          "text": [
            "first\n",
            "second\n",
            "third\n"
          ]
        }
      ]
    },
    {
      "cell_type": "markdown",
      "source": [
        "Example: A counter\n",
        "\n",
        "This generator function produces an infinite sequence of numbers, which would be impossible to store in a list"
      ],
      "metadata": {
        "id": "FajdkCmi--TE"
      }
    },
    {
      "cell_type": "code",
      "source": [
        "def infinite_counter():\n",
        "    count = 0\n",
        "    while True:\n",
        "        yield count\n",
        "        count += 1\n",
        "\n",
        "counter = infinite_counter()\n",
        "print(next(counter)) # 0\n",
        "print(next(counter)) # 1\n",
        "print(next(counter)) # 2\n"
      ],
      "metadata": {
        "colab": {
          "base_uri": "https://localhost:8080/"
        },
        "id": "ZmlEvyO3_FaR",
        "outputId": "e3ae5b5e-bb16-40a3-c4fa-04bab6da3116"
      },
      "execution_count": 4,
      "outputs": [
        {
          "output_type": "stream",
          "name": "stdout",
          "text": [
            "0\n",
            "1\n",
            "2\n"
          ]
        }
      ]
    },
    {
      "cell_type": "markdown",
      "source": [
        "#Generator expressions\n",
        "\n",
        "For simple cases, you can use a concise syntax similar to list comprehensions, but with parentheses instead of square brackets.\n"
      ],
      "metadata": {
        "id": "ClZqCvnA_G4x"
      }
    },
    {
      "cell_type": "code",
      "source": [
        "my_list = [1, 2, 3, 4, 5]\n",
        "\n",
        "# This is a list comprehension, which creates a list in memory\n",
        "list_comp = [x * 2 for x in my_list]\n",
        "\n",
        "# This is a generator expression, which creates a generator object\n",
        "gen_exp = (x * 2 for x in my_list)\n",
        "\n",
        "print(list_comp) # Output: [2, 4, 6, 8, 10]\n",
        "print(gen_exp)   # Output: <generator object <genexpr> at 0x...>\n",
        "\n",
        "# Iterate over the generator expression to get values\n",
        "for value in gen_exp:\n",
        "    print(value)\n",
        "# Output:\n",
        "# 2\n",
        "# 4\n",
        "# 6\n",
        "# 8\n",
        "# 10\n"
      ],
      "metadata": {
        "colab": {
          "base_uri": "https://localhost:8080/"
        },
        "id": "FD94EkJA_RT_",
        "outputId": "3bac240f-20c3-4194-bbdf-ae990b46ec38"
      },
      "execution_count": 6,
      "outputs": [
        {
          "output_type": "stream",
          "name": "stdout",
          "text": [
            "[2, 4, 6, 8, 10]\n",
            "<generator object <genexpr> at 0x79e8aaf98040>\n",
            "2\n",
            "4\n",
            "6\n",
            "8\n",
            "10\n"
          ]
        }
      ]
    },
    {
      "cell_type": "markdown",
      "source": [
        "#Q7. What are the advantages of using generators over regular functions?"
      ],
      "metadata": {
        "id": "y76SMgv9_ioG"
      }
    },
    {
      "cell_type": "markdown",
      "source": [
        "Ans. The advantages of using generators over regular functions stem from their ability to perform lazy evaluation, which makes them extremely memory-efficient and ideal for handling large or infinite datasets.\n",
        "\n",
        "#Memory efficiency\n",
        "\n",
        "Regular functions must build and return the entire sequence of results at once. If you write a function that returns a list of one million items, all one million items are stored in memory simultaneously.\n",
        "\n",
        "Generators, in contrast, only produce and hold one item at a time. This allows them to process large datasets without exhausting system memory. The values are computed and yielded \"on the fly\" as they are requested by the caller.\n",
        "\n",
        "#Lazy evaluation\n",
        "\n",
        "Regular functions are \"eagerly\" evaluated, meaning they compute all their results as soon as they are called. With generators, the values are generated \"lazily\"—that is, only when they are needed.\n",
        "\n",
        "This is a significant advantage when:\n",
        "\n",
        "Reading large files: You can process a file line-by-line without loading the entire content into memory.\n",
        "\n",
        "Data pipelines: You can chain multiple generator operations together, processing data in a stream without creating intermediate lists.\n",
        "\n",
        "Computations with unknown needs: If you only need the first few items from a potentially very long sequence, a generator can provide them immediately, while a regular function would waste time computing all items first.\n",
        "\n",
        "#Infinite sequences\n",
        "\n",
        "\n",
        "Because generators produce values one at a time, they are capable of representing infinite sequences of data without running out of memory. A regular function, by definition, must complete and return a finite collection of results.\n",
        "\n"
      ],
      "metadata": {
        "id": "jckwhB7O_o0e"
      }
    },
    {
      "cell_type": "code",
      "source": [
        "# A generator for an infinite sequence\n",
        "def infinite_sequence():\n",
        "    num = 0\n",
        "    while True:\n",
        "        yield num\n",
        "        num += 1\n",
        "\n",
        "gen = infinite_sequence()\n",
        "print(next(gen)) # 0\n",
        "print(next(gen)) # 1\n"
      ],
      "metadata": {
        "colab": {
          "base_uri": "https://localhost:8080/"
        },
        "id": "GvAbY9K7ARgK",
        "outputId": "3759a0ff-0915-458c-d00f-4b9a308110b3"
      },
      "execution_count": 7,
      "outputs": [
        {
          "output_type": "stream",
          "name": "stdout",
          "text": [
            "0\n",
            "1\n"
          ]
        }
      ]
    },
    {
      "cell_type": "code",
      "source": [
        "# A regular function to get even numbers (memory-intensive)\n",
        "def get_even_numbers_list(limit):\n",
        "    even_numbers = []\n",
        "    for num in range(limit):\n",
        "        if num % 2 == 0:\n",
        "            even_numbers.append(num)\n",
        "    return even_numbers\n",
        "\n",
        "# A generator function to get even numbers (memory-efficient)\n",
        "def get_even_numbers_generator(limit):\n",
        "    for num in range(limit):\n",
        "        if num % 2 == 0:\n",
        "            yield num\n",
        "\n",
        "# For a small limit, there is little difference\n",
        "print(\"Using a list:\", list(get_even_numbers_list(10)))\n",
        "print(\"Using a generator:\", list(get_even_numbers_generator(10)))\n",
        "\n",
        "# For a very large limit, the generator is more efficient\n",
        "# This would consume a lot of memory with the list function\n",
        "# large_list = get_even_numbers_list(1000000000)\n",
        "\n",
        "# The generator handles this with ease, without creating a huge list\n",
        "large_generator = get_even_numbers_generator(1000000000)\n",
        "# We can iterate over it without memory issues\n",
        "print(\"\\nChecking the first 5 items from a large generator:\")\n",
        "for i in range(5):\n",
        "    print(next(large_generator))\n"
      ],
      "metadata": {
        "colab": {
          "base_uri": "https://localhost:8080/"
        },
        "id": "OgyDS1wsAXII",
        "outputId": "66e1674f-65ff-492b-9220-9aea8c603b91"
      },
      "execution_count": 8,
      "outputs": [
        {
          "output_type": "stream",
          "name": "stdout",
          "text": [
            "Using a list: [0, 2, 4, 6, 8]\n",
            "Using a generator: [0, 2, 4, 6, 8]\n",
            "\n",
            "Checking the first 5 items from a large generator:\n",
            "0\n",
            "2\n",
            "4\n",
            "6\n",
            "8\n"
          ]
        }
      ]
    },
    {
      "cell_type": "markdown",
      "source": [
        "#Q8. What is a lambda function in Python and when is it typically used?"
      ],
      "metadata": {
        "id": "jC_s0oIBAY9H"
      }
    },
    {
      "cell_type": "markdown",
      "source": [
        "Ans. A lambda function in Python is a small, anonymous, single-expression function that can take any number of arguments. It is defined using the lambda keyword and is sometimes referred to as a \"throwaway\" function because it's not given a name and is typically used for short-duration tasks.\n",
        "\n",
        "Syntax of a lambda function\n",
        "\n",
        "The syntax is simple and fits on a single line:\n",
        "lambda arguments: expression\n",
        "lambda: The keyword used to define the anonymous function.\n",
        "arguments: Any number of arguments passed to the function, separated by commas.\n",
        "expression: A single executable expression. The result of this expression is automatically returned without using the return keyword\n",
        "\n",
        "#Typical use cases for lambda functions\n",
        "\n",
        "Lambda functions are most powerful when used inline with higher-order functions that accept other functions as arguments.\n",
        "\n",
        "#Sorting with a key\n",
        "\n",
        "When sorting a list of complex objects (like tuples or dictionaries), a lambda can be used with the sorted() function to specify the sorting criteria.\n",
        "\n",
        "Example: Sorting a list of tuples by the second element.\n"
      ],
      "metadata": {
        "id": "JzAeoWbiAfEG"
      }
    },
    {
      "cell_type": "code",
      "source": [
        "data = [('apple', 5), ('banana', 2), ('cherry', 8)]\n",
        "sorted_data = sorted(data, key=lambda x: x[1])\n",
        "print(sorted_data)\n",
        "# Output: [('banana', 2), ('apple', 5), ('cherry', 8)]\n"
      ],
      "metadata": {
        "colab": {
          "base_uri": "https://localhost:8080/"
        },
        "id": "vFv_5YMFA_qf",
        "outputId": "0a371a26-1bd7-4d80-e22d-2ae2998a576c"
      },
      "execution_count": 9,
      "outputs": [
        {
          "output_type": "stream",
          "name": "stdout",
          "text": [
            "[('banana', 2), ('apple', 5), ('cherry', 8)]\n"
          ]
        }
      ]
    },
    {
      "cell_type": "markdown",
      "source": [
        "#Mapping elements in a list\n",
        "You can use map() with a lambda to apply a function to every item in an iterable.\n",
        "Example: Doubling all numbers in a list."
      ],
      "metadata": {
        "id": "qm0Xg51NBEM3"
      }
    },
    {
      "cell_type": "code",
      "source": [
        "numbers = [1, 2, 3, 4]\n",
        "doubled = list(map(lambda x: x * 2, numbers))\n",
        "print(doubled)\n",
        "# Output: [2, 4, 6, 8]\n"
      ],
      "metadata": {
        "colab": {
          "base_uri": "https://localhost:8080/"
        },
        "id": "yOWtBV2iBGGD",
        "outputId": "59ac9193-1e49-476f-c600-b1d2688c84b9"
      },
      "execution_count": 10,
      "outputs": [
        {
          "output_type": "stream",
          "name": "stdout",
          "text": [
            "[2, 4, 6, 8]\n"
          ]
        }
      ]
    },
    {
      "cell_type": "markdown",
      "source": [
        "#Filtering a list\n",
        "The filter() function uses a lambda to test each element of an iterable and return only those that pass the test."
      ],
      "metadata": {
        "id": "z-QYYz9GBLxe"
      }
    },
    {
      "cell_type": "code",
      "source": [
        "#Example: Filtering out even numbers from a list.\n",
        "numbers = [1, 2, 3, 4, 5, 6]\n",
        "odd_numbers = list(filter(lambda x: x % 2 != 0, numbers))\n",
        "print(odd_numbers)\n",
        "# Output: [1, 3, 5]\n"
      ],
      "metadata": {
        "colab": {
          "base_uri": "https://localhost:8080/"
        },
        "id": "A0N_vU7uBP7y",
        "outputId": "05079c4d-0866-4446-ae1b-c28efe0ccc50"
      },
      "execution_count": 11,
      "outputs": [
        {
          "output_type": "stream",
          "name": "stdout",
          "text": [
            "[1, 3, 5]\n"
          ]
        }
      ]
    },
    {
      "cell_type": "markdown",
      "source": [
        "\n",
        "Function closures\n",
        "\n",
        "A regular function can return a lambda to create a custom function. This is often used for creating function factories.\n",
        "\n",
        "Example: A function that generates multiplier functions"
      ],
      "metadata": {
        "id": "qZvZsZ3TBZQ1"
      }
    },
    {
      "cell_type": "code",
      "source": [
        "def make_multiplier(n):\n",
        "    return lambda a: a * n\n",
        "\n",
        "doubler = make_multiplier(2)\n",
        "tripler = make_multiplier(3)\n",
        "\n",
        "print(doubler(10))\n",
        "# Output: 20\n",
        "print(tripler(10))\n",
        "# Output: 30\n"
      ],
      "metadata": {
        "colab": {
          "base_uri": "https://localhost:8080/"
        },
        "id": "kas1o8OlBfEf",
        "outputId": "f7647422-6eb1-45bd-943c-1b59bb185897"
      },
      "execution_count": 12,
      "outputs": [
        {
          "output_type": "stream",
          "name": "stdout",
          "text": [
            "20\n",
            "30\n"
          ]
        }
      ]
    },
    {
      "cell_type": "markdown",
      "source": [
        "Limitations of lambda functions\n",
        "\n",
        "Because they are designed for simplicity, lambda functions have certain limitations:\n",
        "\n",
        "Single expression only: They cannot contain multiple statements or complex control flow like if/else or for loops.\n",
        "\n",
        "No docstrings: They do not have a name or a dedicated space for a docstring, which can harm readability for complex operations.\n",
        "\n",
        "Best for simple tasks: While they can be assigned to a variable, it is generally recommended to use a standard def function for anything more complex or reusable to improve code clarity."
      ],
      "metadata": {
        "id": "kkjKpepHBjCF"
      }
    },
    {
      "cell_type": "markdown",
      "source": [
        "#Q9. Explain the purpose and usage of the `map()` function in Python?"
      ],
      "metadata": {
        "id": "ZxMH3uqhBmLm"
      }
    },
    {
      "cell_type": "markdown",
      "source": [
        "Ans. The map() function in Python is a built-in tool that applies a given function to every item of an iterable (such as a list, tuple, or set) and returns an iterator of the results. This functional programming approach provides a clean and efficient way to perform a uniform transformation on a collection of items without using an explicit for loop.\n",
        "\n",
        "#Purpose of map()\n",
        "\n",
        "The primary purpose of map() is to simplify the process of transforming every element in a sequence. Instead of manually looping through each item, you can state the operation you want to perform and the data you want to perform it on. This can make code more concise and easier to read, especially when the transformation logic is simple.\n",
        "\n",
        "#Syntax\n",
        "\n",
        "map(function, iterable, ...)\n",
        "\n",
        "function: A function to which map() passes each element of the iterable. This can be a predefined function, a user-defined function, or a lambda function.\n",
        "\n",
        "iterable: A sequence, collection, or iterator object. map() can take one or more iterables, as long as the function is defined to accept the same number of arguments.\n",
        "\n",
        "The return value is a map object, which is an iterator. To view the results, you must convert the object into a concrete sequence type, like a list or tuple\n",
        "\n",
        "#Usage examples\n",
        "\n",
        "1. With a user-defined function\n",
        "You can define a function and then apply it to a list using map()\n"
      ],
      "metadata": {
        "id": "S9lwHqGKBrUG"
      }
    },
    {
      "cell_type": "code",
      "source": [
        "def square(number):\n",
        "    return number * number\n",
        "\n",
        "numbers = [1, 2, 3, 4, 5]\n",
        "squared_numbers = map(square, numbers)\n",
        "\n",
        "# Convert the map object to a list to see the result\n",
        "print(list(squared_numbers))\n",
        "# Output: [1, 4, 9, 16, 25]\n"
      ],
      "metadata": {
        "colab": {
          "base_uri": "https://localhost:8080/"
        },
        "id": "3RbYRFxJCRpr",
        "outputId": "e47d4749-0129-42d5-e912-40ad9c1007d2"
      },
      "execution_count": 13,
      "outputs": [
        {
          "output_type": "stream",
          "name": "stdout",
          "text": [
            "[1, 4, 9, 16, 25]\n"
          ]
        }
      ]
    },
    {
      "cell_type": "markdown",
      "source": [
        "2. With a lambda function\n",
        "\n",
        "map() is frequently used with lambda functions for simple, one-off operations, which keeps the code even more compact"
      ],
      "metadata": {
        "id": "DCugNpnsCUb9"
      }
    },
    {
      "cell_type": "code",
      "source": [
        "numbers = [1, 2, 3, 4, 5]\n",
        "doubled_numbers = map(lambda x: x * 2, numbers)\n",
        "\n",
        "print(list(doubled_numbers))\n",
        "# Output: [2, 4, 6, 8, 10]\n"
      ],
      "metadata": {
        "colab": {
          "base_uri": "https://localhost:8080/"
        },
        "id": "UxzHGeFfCWbx",
        "outputId": "f009b152-1a03-4b96-f03d-4bc84c9f51ca"
      },
      "execution_count": 14,
      "outputs": [
        {
          "output_type": "stream",
          "name": "stdout",
          "text": [
            "[2, 4, 6, 8, 10]\n"
          ]
        }
      ]
    },
    {
      "cell_type": "markdown",
      "source": [
        "#With multiple iterables\n",
        "The map() function can take multiple iterables, applying the function to corresponding elements in each."
      ],
      "metadata": {
        "id": "7lyvB9_-CcpM"
      }
    },
    {
      "cell_type": "code",
      "source": [
        "list1 = [1, 2, 3]\n",
        "list2 = [4, 5, 6]\n",
        "\n",
        "sums = map(lambda x, y: x + y, list1, list2)\n",
        "\n",
        "print(list(sums))\n",
        "# Output: [5, 7, 9]\n"
      ],
      "metadata": {
        "colab": {
          "base_uri": "https://localhost:8080/"
        },
        "id": "IvytGi7zCemV",
        "outputId": "8113be30-fb9c-4130-ace6-fbd06ec12f40"
      },
      "execution_count": 15,
      "outputs": [
        {
          "output_type": "stream",
          "name": "stdout",
          "text": [
            "[5, 7, 9]\n"
          ]
        }
      ]
    },
    {
      "cell_type": "markdown",
      "source": [
        "#Choosing the right tool\n",
        "\n",
        "Use map() when you need to apply a single, simple function to every item in one or more iterables, and you have an existing function you can pass directly.\n",
        "\n",
        "Use a list comprehension for most standard use cases where you are creating a new list from an existing one. It is often considered more readable and \"Pythonic\" than map() for basic transformations.\n",
        "\n",
        "Use a for loop when the logic is too complex for a list comprehension or map(), or when you need more control over the iteration process, such as with break or continue statements."
      ],
      "metadata": {
        "id": "aB53Jvx5Ch9x"
      }
    },
    {
      "cell_type": "markdown",
      "source": [
        "#10. What is the difference between `map()`, `reduce()`, and `filter()` functions in Python?"
      ],
      "metadata": {
        "id": "qjvk57NTCu4X"
      }
    },
    {
      "cell_type": "markdown",
      "source": [
        "Ans. The difference between map(), reduce(), and filter() lies in their purpose, the function they apply, and the output they produce. All three are functional programming tools that apply a function to an iterable, but they achieve different results: map() transforms each item, filter() selects items based on a condition, and reduce() aggregates all items into a single value.\n",
        "Here is a breakdown of their differences, with examples based on a simple list: numbers = [1, 2, 3, 4, 5].\n",
        "\n",
        "map(): Transformation\n",
        "\n",
        "Purpose: To transform every element of an iterable by applying a function to each item.\n",
        "\n",
        "Input Function: The function passed to map() takes a single argument (each item from the iterable) and returns a new value.\n",
        "\n",
        "Output: An iterator that yields the transformed items. The output has the same number of elements as the input iterable.\n"
      ],
      "metadata": {
        "id": "k0OLGTgsCxPd"
      }
    },
    {
      "cell_type": "code",
      "source": [
        "numbers = [1, 2, 3, 4, 5]\n",
        "doubled_numbers = map(lambda x: x * 2, numbers)\n",
        "print(list(doubled_numbers))\n",
        "# Output: [2, 4, 6, 8, 10]\n"
      ],
      "metadata": {
        "colab": {
          "base_uri": "https://localhost:8080/"
        },
        "id": "khHuwcSOC-IZ",
        "outputId": "55ff56aa-3a2d-448e-cb50-48d8c4dc1fe1"
      },
      "execution_count": 16,
      "outputs": [
        {
          "output_type": "stream",
          "name": "stdout",
          "text": [
            "[2, 4, 6, 8, 10]\n"
          ]
        }
      ]
    },
    {
      "cell_type": "markdown",
      "source": [
        "filter(): Selection\n",
        "Purpose: To select and extract elements from an iterable that satisfy a specific condition.\n",
        "\n",
        "Input Function: The function passed to filter() takes a single argument and must return a boolean value (True or False). Items for which the function returns True are included in the output.\n",
        "\n",
        "Output: An iterator that yields only the elements for which the function returned True. The number of elements in the output is less than or equal to the input."
      ],
      "metadata": {
        "id": "-g1z1XnADCQk"
      }
    },
    {
      "cell_type": "code",
      "source": [
        "#Example: Keeping only the even numbers\n",
        "\n",
        "numbers = [1, 2, 3, 4, 5]\n",
        "even_numbers = filter(lambda x: x % 2 == 0, numbers)\n",
        "print(list(even_numbers))\n",
        "# Output: [2, 4]\n"
      ],
      "metadata": {
        "colab": {
          "base_uri": "https://localhost:8080/"
        },
        "id": "XAMoW7JRDENn",
        "outputId": "46d72ce6-c82d-4a40-96fb-06951bad2419"
      },
      "execution_count": 18,
      "outputs": [
        {
          "output_type": "stream",
          "name": "stdout",
          "text": [
            "[2, 4]\n"
          ]
        }
      ]
    },
    {
      "cell_type": "markdown",
      "source": [
        "reduce(): Aggregation\n",
        "\n",
        "Purpose: To cumulatively apply a function to the items of an iterable, reducing the iterable to a single value.\n",
        "\n",
        "Note: In Python 3, reduce() is not a built-in function and must be imported from the functools module.\n",
        "\n",
        "Input Function: The function passed to reduce() must take two arguments: an accumulator and the next item from the iterable. It returns a new accumulator value.\n",
        "\n",
        "Output: A single, final value that is the result of the cumulative operation.\n",
        "Example: Summing all numbers"
      ],
      "metadata": {
        "id": "Hr1m0_V1DOdd"
      }
    },
    {
      "cell_type": "code",
      "source": [
        "from functools import reduce\n",
        "\n",
        "numbers = [1, 2, 3, 4, 5]\n",
        "sum_of_numbers = reduce(lambda x, y: x + y, numbers)\n",
        "print(sum_of_numbers)\n",
        "# Output: 15\n",
        "\n"
      ],
      "metadata": {
        "colab": {
          "base_uri": "https://localhost:8080/"
        },
        "id": "opMPta3lDS4d",
        "outputId": "89e1b67f-3c19-4c80-f07c-e7c1d1eb42f9"
      },
      "execution_count": 19,
      "outputs": [
        {
          "output_type": "stream",
          "name": "stdout",
          "text": [
            "15\n"
          ]
        }
      ]
    },
    {
      "cell_type": "markdown",
      "source": [
        "#Q11. Using pen & Paper write the internal mechanism for sum operation using  reduce function on this given list:[47,11,42,13];"
      ],
      "metadata": {
        "id": "9Fb-0vtCEHoi"
      }
    },
    {
      "cell_type": "markdown",
      "source": [
        "Ans. To trace the internal mechanism of the reduce function for a sum operation, you need a function to apply to each element and a starting list. The process involves an accumulator that carries the result from one step to the next, reducing the list down to a single value.\n",
        "\n",
        "For the list [47, 11, 42, 13], here is the step-by-step breakdown using a pen-and-paper method:\n",
        "\n",
        "Setup\n",
        "\n",
        "The List: [47, 11, 42, 13]\n",
        "The Operation: sum (addition)\n",
        "The Function: A two-argument function, often a lambda like lambda x, y: x + y.\n",
        "\n",
        "Execution Trace\n",
        "The reduce function works by applying the operation to pairs of elements in the list, from left to right, and using the result as the accumulator for the next step.\n",
        "Step 1: The first two elements\n",
        "The reduce function takes the first two elements of the list: 47 and 11.\n",
        "It applies the sum function to them: 47 + 11.\n",
        "Result: The result of this operation is 58. This becomes the new accumulator value.\n",
        "Step 2: The accumulator and the next element\n",
        "The reduce function now takes the new accumulator value (58) and the next element from the list (42).\n",
        "It applies the sum function: 58 + 42.\n",
        "Result: The result is 100. This becomes the new accumulator value.\n",
        "\n",
        "Step 3: The accumulator and the final element\n",
        "The reduce function takes the new accumulator (100) and the last element of the list (13).\n",
        "It applies the sum function: 100 + 13.\n",
        "Result: The result is 113.\n",
        "Step 4: Final value\n",
        "The reduce function has now processed all elements in the list.\n",
        "The final accumulated value, 113, is returned as the final result.\n",
        "Pen-and-paper illustration\n",
        "You can visualize this process like a running total:\n",
        "\n",
        "Iteration 1:\n",
        "47 + 11 = 58\n",
        "Remaining list: [42, 13]\n",
        "Accumulator: 58\n",
        "Iteration 2:\n",
        "58 + 42 = 100\n",
        "Remaining list: [13]\n",
        "Accumulator: 100\n",
        "Iteration 3:\n",
        "100 + 13 = 113\n",
        "Remaining list: []\n",
        "Accumulator: 113\n",
        "The list is now empty, and the reduce function returns the final accumulator value.\n",
        "Final Answer: 113"
      ],
      "metadata": {
        "id": "XJ5WcS6gENMO"
      }
    },
    {
      "cell_type": "markdown",
      "source": [
        "#Practical Questions:\n"
      ],
      "metadata": {
        "id": "lINv4OgoE7ht"
      }
    },
    {
      "cell_type": "markdown",
      "source": [
        "#Q Write a Python function that takes a list of numbers as input and returns the sum of all even numbers in the list."
      ],
      "metadata": {
        "id": "tNrjnFIcFKIK"
      }
    },
    {
      "cell_type": "markdown",
      "source": [
        "Ans. You can create a Python function to sum all even numbers in a list using a few different methods. Below are three common approaches, with the first being the most traditional and easy to understand for beginners.\n",
        "\n",
        "Method 1: Using a for loop\n",
        "\n",
        "This approach initializes a sum variable to zero and then iterates through each number in the input list. If a number is even, it is added to the total"
      ],
      "metadata": {
        "id": "dzvAjqUIFXbi"
      }
    },
    {
      "cell_type": "code",
      "source": [
        "def sum_even_numbers_comprehension(numbers):\n",
        "    \"\"\"\n",
        "    Calculates the sum of all even numbers in a list using list comprehension.\n",
        "\n",
        "    Args:\n",
        "        numbers: A list of integers.\n",
        "\n",
        "    Returns:\n",
        "        The sum of the even numbers.\n",
        "    \"\"\"\n",
        "    return sum([num for num in numbers if num % 2 == 0])\n",
        "\n",
        "# Example usage:\n",
        "my_list = [1, 2, 3, 4, 5, 6, 7, 8, 9, 10]\n",
        "print(f\"The sum of even numbers in the list is: {sum_even_numbers_comprehension(my_list)}\")\n",
        "# Output: The sum of even numbers in the list is: 30\n"
      ],
      "metadata": {
        "colab": {
          "base_uri": "https://localhost:8080/"
        },
        "id": "hvfFjMMnFa0r",
        "outputId": "aab27f38-8405-49ee-d581-9211b061fafa"
      },
      "execution_count": 20,
      "outputs": [
        {
          "output_type": "stream",
          "name": "stdout",
          "text": [
            "The sum of even numbers in the list is: 30\n"
          ]
        }
      ]
    },
    {
      "cell_type": "markdown",
      "source": [
        "Method 2: Using a list comprehension with sum()\n",
        "This is a more concise and \"Pythonic\" way to solve the problem. It uses a list comprehension to create a new list containing only the even numbers, and then the built-in sum() function calculates their total."
      ],
      "metadata": {
        "id": "WMH70oe-Fhi6"
      }
    },
    {
      "cell_type": "code",
      "source": [
        "def sum_even_numbers_comprehension(numbers):\n",
        "    \"\"\"\n",
        "    Calculates the sum of all even numbers in a list using list comprehension.\n",
        "\n",
        "    Args:\n",
        "        numbers: A list of integers.\n",
        "\n",
        "    Returns:\n",
        "        The sum of the even numbers.\n",
        "    \"\"\"\n",
        "    return sum([num for num in numbers if num % 2 == 0])\n",
        "\n",
        "# Example usage:\n",
        "my_list = [1, 2, 3, 4, 5, 6, 7, 8, 9, 10]\n",
        "print(f\"The sum of even numbers in the list is: {sum_even_numbers_comprehension(my_list)}\")\n",
        "# Output: The sum of even numbers in the list is: 30\n"
      ],
      "metadata": {
        "colab": {
          "base_uri": "https://localhost:8080/"
        },
        "id": "TRcfMnLFFRyC",
        "outputId": "c9f05c4d-2022-424e-a585-cf1d133d5885"
      },
      "execution_count": 21,
      "outputs": [
        {
          "output_type": "stream",
          "name": "stdout",
          "text": [
            "The sum of even numbers in the list is: 30\n"
          ]
        }
      ]
    },
    {
      "cell_type": "markdown",
      "source": [
        "Method 3: Using a generator expression with sum()\n",
        "\n",
        "This is the most memory-efficient solution for very large lists. It is similar to the list comprehension but uses parentheses instead of square brackets. This creates a generator that yields even numbers one at a time, so the entire list of even numbers is never stored in memory."
      ],
      "metadata": {
        "id": "BinaEi_hFpW8"
      }
    },
    {
      "cell_type": "code",
      "source": [
        "def sum_even_numbers_generator(numbers):\n",
        "    \"\"\"\n",
        "    Calculates the sum of all even numbers in a list using a generator expression.\n",
        "\n",
        "    Args:\n",
        "        numbers: A list of integers.\n",
        "\n",
        "    Returns:\n",
        "        The sum of the even numbers.\n",
        "    \"\"\"\n",
        "    return sum(num for num in numbers if num % 2 == 0)\n",
        "\n",
        "# Example usage:\n",
        "my_list = [1, 2, 3, 4, 5, 6, 7, 8, 9, 10]\n",
        "print(f\"The sum of even numbers in the list is: {sum_even_numbers_generator(my_list)}\")\n",
        "# Output: The sum of even numbers in the list is: 30\n"
      ],
      "metadata": {
        "colab": {
          "base_uri": "https://localhost:8080/"
        },
        "id": "N3qH2tlSFska",
        "outputId": "1cef8f56-e5c2-47c9-b80c-eb3c7f682eb9"
      },
      "execution_count": 22,
      "outputs": [
        {
          "output_type": "stream",
          "name": "stdout",
          "text": [
            "The sum of even numbers in the list is: 30\n"
          ]
        }
      ]
    },
    {
      "cell_type": "markdown",
      "source": [
        "#Q2. Create a Python function that accepts a string and returns the reverse of that string."
      ],
      "metadata": {
        "id": "701FaLfQFw-v"
      }
    },
    {
      "cell_type": "markdown",
      "source": [
        "Ans. Here are several ways to create a Python function that reverses a string, ranging from the most common and concise to more manual, educational methods.\n",
        "\n",
        "Method 1: Using slicing (The \"Pythonic\" way)\n",
        "This is the most popular and efficient method for reversing a string in Python. It uses slice notation [::-1] to create a reversed copy of the string."
      ],
      "metadata": {
        "id": "Xc_2Z9uQF1kN"
      }
    },
    {
      "cell_type": "code",
      "source": [
        "def reverse_string_slice(input_string):\n",
        "    \"\"\"\n",
        "    Reverses a string using Python's slicing notation.\n",
        "\n",
        "    Args:\n",
        "        input_string: The string to be reversed.\n",
        "\n",
        "    Returns:\n",
        "        The reversed string.\n",
        "    \"\"\"\n",
        "    return input_string[::-1]\n",
        "\n",
        "# Example usage\n",
        "my_string = \"hello world\"\n",
        "reversed_str = reverse_string_slice(my_string)\n",
        "print(f\"Original: '{my_string}'\")\n",
        "print(f\"Reversed: '{reversed_str}'\")\n"
      ],
      "metadata": {
        "colab": {
          "base_uri": "https://localhost:8080/"
        },
        "id": "ryqd9MM5GEfm",
        "outputId": "6297885a-9f41-4e53-eb94-b3ed74837540"
      },
      "execution_count": 23,
      "outputs": [
        {
          "output_type": "stream",
          "name": "stdout",
          "text": [
            "Original: 'hello world'\n",
            "Reversed: 'dlrow olleh'\n"
          ]
        }
      ]
    },
    {
      "cell_type": "markdown",
      "source": [
        "Method 2: Using the reversed() function and join()\n",
        "\n",
        "This method uses Python's built-in reversed() function, which returns a reverse iterator, and the join() string method to combine the characters back into a string."
      ],
      "metadata": {
        "id": "Gr4wS796GFx-"
      }
    },
    {
      "cell_type": "code",
      "source": [
        "def reverse_string_join_reversed(input_string):\n",
        "    \"\"\"\n",
        "    Reverses a string using the reversed() function and join().\n",
        "\n",
        "    Args:\n",
        "        input_string: The string to be reversed.\n",
        "\n",
        "    Returns:\n",
        "        The reversed string.\n",
        "    \"\"\"\n",
        "    return \"\".join(reversed(input_string))\n",
        "\n",
        "# Example usage\n",
        "my_string = \"python\"\n",
        "reversed_str = reverse_string_join_reversed(my_string)\n",
        "print(f\"Original: '{my_string}'\")\n",
        "print(f\"Reversed: '{reversed_str}'\")\n"
      ],
      "metadata": {
        "colab": {
          "base_uri": "https://localhost:8080/"
        },
        "id": "SojpwhcdGLVK",
        "outputId": "974ad412-96c4-4b5e-c61e-cecaba2c0711"
      },
      "execution_count": 24,
      "outputs": [
        {
          "output_type": "stream",
          "name": "stdout",
          "text": [
            "Original: 'python'\n",
            "Reversed: 'nohtyp'\n"
          ]
        }
      ]
    },
    {
      "cell_type": "markdown",
      "source": [
        "Use code with caution.\n",
        "\n",
        "Method 3: Using a for loop\n",
        "This approach manually iterates through the original string and builds the reversed string by prepending each character"
      ],
      "metadata": {
        "id": "kPHXdqvLGQg-"
      }
    },
    {
      "cell_type": "code",
      "source": [
        "def reverse_string_loop(input_string):\n",
        "    \"\"\"\n",
        "    Reverses a string using a for loop.\n",
        "\n",
        "    Args:\n",
        "        input_string: The string to be reversed.\n",
        "\n",
        "    Returns:\n",
        "        The reversed string.\n",
        "    \"\"\"\n",
        "    reversed_str = \"\"\n",
        "    for char in input_string:\n",
        "        reversed_str = char + reversed_str\n",
        "    return reversed_str\n",
        "\n",
        "# Example usage\n",
        "my_string = \"programming\"\n",
        "reversed_str = reverse_string_loop(my_string)\n",
        "print(f\"Original: '{my_string}'\")\n",
        "print(f\"Reversed: '{reversed_str}'\")\n"
      ],
      "metadata": {
        "colab": {
          "base_uri": "https://localhost:8080/"
        },
        "id": "o2S_LtrLGVf6",
        "outputId": "7f382fa7-1406-470b-8d5d-a67a229f0f93"
      },
      "execution_count": 25,
      "outputs": [
        {
          "output_type": "stream",
          "name": "stdout",
          "text": [
            "Original: 'programming'\n",
            "Reversed: 'gnimmargorp'\n"
          ]
        }
      ]
    },
    {
      "cell_type": "markdown",
      "source": [
        "#Q3. Implement a Python function that takes a list of integers and returns a new list containing the squares of each number.\n"
      ],
      "metadata": {
        "id": "sWN9NnkKGdTP"
      }
    },
    {
      "cell_type": "markdown",
      "source": [
        "A Python function to square each number in a list can be implemented in a few ways. Below are three common approaches, including the concise and highly readable list comprehension.\n",
        "\n",
        "Method 1: Using a list comprehension (Recommended)\n",
        "This is the most \"Pythonic\" and efficient method for creating a new list by applying an operation to every item in an existing list."
      ],
      "metadata": {
        "id": "pGmiBRMQGn2z"
      }
    },
    {
      "cell_type": "code",
      "source": [
        "def square_numbers(numbers):\n",
        "    \"\"\"\n",
        "    Returns a new list with the square of each number in the input list.\n",
        "\n",
        "    Args:\n",
        "        numbers: A list of integers.\n",
        "\n",
        "    Returns:\n",
        "        A new list containing the squares of the original numbers.\n",
        "    \"\"\"\n",
        "    return [number ** 2 for number in numbers]\n",
        "\n",
        "# Example usage\n",
        "my_list = [1, 2, 3, 4, 5]\n",
        "squared_list = square_numbers(my_list)\n",
        "print(f\"Original list: {my_list}\")\n",
        "print(f\"Squared list: {squared_list}\")\n"
      ],
      "metadata": {
        "colab": {
          "base_uri": "https://localhost:8080/"
        },
        "id": "Q2DPE-UrGiaJ",
        "outputId": "e58d3923-3abd-4861-bdf2-d65215785a76"
      },
      "execution_count": 26,
      "outputs": [
        {
          "output_type": "stream",
          "name": "stdout",
          "text": [
            "Original list: [1, 2, 3, 4, 5]\n",
            "Squared list: [1, 4, 9, 16, 25]\n"
          ]
        }
      ]
    },
    {
      "cell_type": "markdown",
      "source": [
        "Method 2: Using a for loop\n",
        "This is a more traditional and explicit approach that is easy to understand for beginners. You initialize an empty list and then loop through the input list, appending the square of each number to the new list."
      ],
      "metadata": {
        "id": "kqpzi52QGuZ1"
      }
    },
    {
      "cell_type": "code",
      "source": [
        "def square_numbers_loop(numbers):\n",
        "    \"\"\"\n",
        "    Returns a new list with the square of each number in the input list using a for loop.\n",
        "\n",
        "    Args:\n",
        "        numbers: A list of integers.\n",
        "\n",
        "    Returns:\n",
        "        A new list containing the squares of the original numbers.\n",
        "    \"\"\"\n",
        "    squared_list = []\n",
        "    for number in numbers:\n",
        "        squared_list.append(number * number)\n",
        "    return squared_list\n",
        "\n",
        "# Example usage\n",
        "my_list = [1, 2, 3, 4, 5]\n",
        "squared_list = square_numbers_loop(my_list)\n",
        "print(f\"Original list: {my_list}\")\n",
        "print(f\"Squared list: {squared_list}\")\n"
      ],
      "metadata": {
        "colab": {
          "base_uri": "https://localhost:8080/"
        },
        "id": "caB2BielGy2c",
        "outputId": "3db14a2c-536e-48c2-f16b-536465840243"
      },
      "execution_count": 29,
      "outputs": [
        {
          "output_type": "stream",
          "name": "stdout",
          "text": [
            "Original list: [1, 2, 3, 4, 5]\n",
            "Squared list: [1, 4, 9, 16, 25]\n"
          ]
        }
      ]
    },
    {
      "cell_type": "markdown",
      "source": [
        "\n",
        "Method 3: Using the map() function\n",
        "\n",
        "The built-in map() function applies a given function to each item of an iterable (like a list) and returns a map object, which is an iterator. You then convert this object to a list using list()."
      ],
      "metadata": {
        "id": "5sh_LqXfG6EN"
      }
    },
    {
      "cell_type": "code",
      "source": [
        "def square_numbers_map(numbers):\n",
        "    \"\"\"\n",
        "    Returns a new list with the square of each number in the input list using the map() function.\n",
        "\n",
        "    Args:\n",
        "        numbers: A list of integers.\n",
        "\n",
        "    Returns:\n",
        "        A new list containing the squares of the original numbers.\n",
        "    \"\"\"\n",
        "    return list(map(lambda x: x**2, numbers))\n",
        "\n",
        "# Example usage\n",
        "my_list = [1, 2, 3, 4, 5]\n",
        "squared_list = square_numbers_map(my_list)\n",
        "print(f\"Original list: {my_list}\")\n",
        "print(f\"Squared list: {squared_list}\")\n"
      ],
      "metadata": {
        "colab": {
          "base_uri": "https://localhost:8080/"
        },
        "id": "8JL2gn9THL8d",
        "outputId": "b8c39329-1a46-41d1-f112-907c1f750f43"
      },
      "execution_count": 28,
      "outputs": [
        {
          "output_type": "stream",
          "name": "stdout",
          "text": [
            "Original list: [1, 2, 3, 4, 5]\n",
            "Squared list: [1, 4, 9, 16, 25]\n"
          ]
        }
      ]
    },
    {
      "cell_type": "markdown",
      "source": [
        "#Q4. Write a Python function that checks if a given number is prime or not from 1 to 200."
      ],
      "metadata": {
        "id": "txwT3qSYXacW"
      }
    },
    {
      "cell_type": "markdown",
      "source": [
        "Ans. You can solve this with a Python function that first defines the logic for checking a single number for primality. Then, you can call that function inside a loop that goes from 1 to 200 to print the result for each number.\n",
        "\n",
        "Python function to check for primality\n",
        "\n",
        "A prime number is a natural number greater than 1 that has no positive divisors other than 1 and itself. The most efficient way to check for primality is to iterate from 2 up to the square root of the number"
      ],
      "metadata": {
        "id": "LY9Mgj3qXeWb"
      }
    },
    {
      "cell_type": "code",
      "source": [
        "import math\n",
        "\n",
        "def is_prime(num):\n",
        "    \"\"\"\n",
        "    Checks if a number is prime.\n",
        "\n",
        "    Args:\n",
        "        num: An integer.\n",
        "\n",
        "    Returns:\n",
        "        True if the number is prime, False otherwise.\n",
        "    \"\"\"\n",
        "    # Prime numbers must be greater than 1.\n",
        "    if num <= 1:\n",
        "        return False\n",
        "\n",
        "    # Numbers 2 and 3 are prime.\n",
        "    if num <= 3:\n",
        "        return True\n",
        "\n",
        "    # Skip multiples of 2 and 3.\n",
        "    if num % 2 == 0 or num % 3 == 0:\n",
        "        return False\n",
        "\n",
        "    # Check for factors from 5 up to the square root of the number.\n",
        "    # The loop increments by 6 because all primes greater than 3 are of the form 6k ± 1.\n",
        "    i = 5\n",
        "    while i * i <= num:\n",
        "        if num % i == 0 or num % (i + 2) == 0:\n",
        "            return False\n",
        "        i += 6\n",
        "\n",
        "    return True\n",
        "\n",
        "# Now, loop from 1 to 200 and print the result for each number.\n",
        "print(\"Prime numbers from 1 to 200:\")\n",
        "for number in range(1, 201):\n",
        "    if is_prime(number):\n",
        "        print(number, end=\" \")\n",
        "\n",
        "print(\"\\n\\nNon-prime numbers from 1 to 200:\")\n",
        "for number in range(1, 201):\n",
        "    if not is_prime(number):\n",
        "        print(number, end=\" \")\n"
      ],
      "metadata": {
        "colab": {
          "base_uri": "https://localhost:8080/"
        },
        "id": "HtLTx75kXuvf",
        "outputId": "ce1e2ef8-d13a-45ca-b47f-3aada59fe35b"
      },
      "execution_count": 1,
      "outputs": [
        {
          "output_type": "stream",
          "name": "stdout",
          "text": [
            "Prime numbers from 1 to 200:\n",
            "2 3 5 7 11 13 17 19 23 29 31 37 41 43 47 53 59 61 67 71 73 79 83 89 97 101 103 107 109 113 127 131 137 139 149 151 157 163 167 173 179 181 191 193 197 199 \n",
            "\n",
            "Non-prime numbers from 1 to 200:\n",
            "1 4 6 8 9 10 12 14 15 16 18 20 21 22 24 25 26 27 28 30 32 33 34 35 36 38 39 40 42 44 45 46 48 49 50 51 52 54 55 56 57 58 60 62 63 64 65 66 68 69 70 72 74 75 76 77 78 80 81 82 84 85 86 87 88 90 91 92 93 94 95 96 98 99 100 102 104 105 106 108 110 111 112 114 115 116 117 118 119 120 121 122 123 124 125 126 128 129 130 132 133 134 135 136 138 140 141 142 143 144 145 146 147 148 150 152 153 154 155 156 158 159 160 161 162 164 165 166 168 169 170 171 172 174 175 176 177 178 180 182 183 184 185 186 187 188 189 190 192 194 195 196 198 200 "
          ]
        }
      ]
    },
    {
      "cell_type": "markdown",
      "source": [
        "Simpler function for beginners\n",
        "\n",
        "If the logic above seems too complex, a more straightforward version that doesn't include the optimization for checking multiples of 2 and 3 also works perfectly well, especially for a small range like 1 to 200."
      ],
      "metadata": {
        "id": "33y1_XAPXynJ"
      }
    },
    {
      "cell_type": "code",
      "source": [
        "import math\n",
        "\n",
        "def simple_is_prime(num):\n",
        "    \"\"\"\n",
        "    A simpler function to check if a number is prime.\n",
        "\n",
        "    Args:\n",
        "        num: An integer.\n",
        "\n",
        "    Returns:\n",
        "        True if the number is prime, False otherwise.\n",
        "    \"\"\"\n",
        "    if num <= 1:\n",
        "        return False\n",
        "    for i in range(2, int(math.sqrt(num)) + 1):\n",
        "        if num % i == 0:\n",
        "            return False\n",
        "    return True\n",
        "\n",
        "# Example usage with the simpler function\n",
        "print(\"Prime numbers from 1 to 200 (using simpler function):\")\n",
        "for number in range(1, 201):\n",
        "    if simple_is_prime(number):\n",
        "        print(number, end=\" \")\n"
      ],
      "metadata": {
        "colab": {
          "base_uri": "https://localhost:8080/"
        },
        "id": "lCge_gc1X0ym",
        "outputId": "85331d08-18aa-4a12-8b92-2c35e943f192"
      },
      "execution_count": 2,
      "outputs": [
        {
          "output_type": "stream",
          "name": "stdout",
          "text": [
            "Prime numbers from 1 to 200 (using simpler function):\n",
            "2 3 5 7 11 13 17 19 23 29 31 37 41 43 47 53 59 61 67 71 73 79 83 89 97 101 103 107 109 113 127 131 137 139 149 151 157 163 167 173 179 181 191 193 197 199 "
          ]
        }
      ]
    },
    {
      "cell_type": "markdown",
      "source": [
        "#Q5. Create an iterator class in Python that generates the Fibonacci sequence up to a specified number of terms."
      ],
      "metadata": {
        "id": "qAK-XjN6X9hn"
      }
    },
    {
      "cell_type": "markdown",
      "source": [
        "Ans. To create an iterator class for the Fibonacci sequence in Python, you need to define a class with two special methods: __iter__() and __next__().\n",
        "\n",
        "__iter__(): This method is called when an iterator is requested from an object. It should return the iterator object itself.\n",
        "\n",
        "__next__(): This method is called to retrieve the next value from the iterator. It should contain the logic for generating the sequence and must raise a StopIteration exception when the sequence is exhausted.\n",
        "\n",
        "Here is an implementation of such a class, FibonacciIterator, that generates the sequence up to a specified number of terms.\n",
        "The FibonacciIterator class"
      ],
      "metadata": {
        "id": "AyN9pmiOYDd3"
      }
    },
    {
      "cell_type": "code",
      "source": [
        "class FibonacciIterator:\n",
        "    \"\"\"\n",
        "    An iterator that generates the Fibonacci sequence up to a specified number of terms.\n",
        "    \"\"\"\n",
        "    def __init__(self, terms):\n",
        "        \"\"\"\n",
        "        Initializes the iterator with the number of terms to generate.\n",
        "\n",
        "        Args:\n",
        "            terms: An integer representing the number of Fibonacci terms.\n",
        "        \"\"\"\n",
        "        if terms <= 0:\n",
        "            self.terms = 0\n",
        "        else:\n",
        "            self.terms = terms\n",
        "\n",
        "        self.count = 0\n",
        "        self.a, self.b = 0, 1\n",
        "\n",
        "    def __iter__(self):\n",
        "        \"\"\"\n",
        "        Returns the iterator object itself.\n",
        "        \"\"\"\n",
        "        return self\n",
        "\n",
        "    def __next__(self):\n",
        "        \"\"\"\n",
        "        Generates the next Fibonacci number in the sequence.\n",
        "        \"\"\"\n",
        "        if self.count >= self.terms:\n",
        "            raise StopIteration\n",
        "\n",
        "        self.count += 1\n",
        "\n",
        "        # The logic to handle the initial terms (0 and 1)\n",
        "        if self.count == 1:\n",
        "            return 0\n",
        "        elif self.count == 2:\n",
        "            return 1\n",
        "\n",
        "        # The logic to generate subsequent terms\n",
        "        else:\n",
        "            next_fib = self.a + self.b\n",
        "            self.a, self.b = self.b, next_fib\n",
        "            return next_fib\n",
        "\n",
        "# Example usage of the iterator class\n",
        "fib_sequence = FibonacciIterator(10)\n",
        "\n",
        "print(\"Fibonacci sequence (using a for loop):\")\n",
        "for num in fib_sequence:\n",
        "    print(num, end=\" \")\n",
        "\n",
        "# Re-initializing the iterator for another use\n",
        "print(\"\\n\\nFibonacci sequence (using next()):\")\n",
        "fib_sequence_2 = FibonacciIterator(8)\n",
        "try:\n",
        "    while True:\n",
        "        print(next(fib_sequence_2), end=\" \")\n",
        "except StopIteration:\n",
        "    pass\n"
      ],
      "metadata": {
        "colab": {
          "base_uri": "https://localhost:8080/"
        },
        "id": "nmoLPLxKYOlv",
        "outputId": "741043bc-5a07-4428-824d-7885e55f897b"
      },
      "execution_count": 3,
      "outputs": [
        {
          "output_type": "stream",
          "name": "stdout",
          "text": [
            "Fibonacci sequence (using a for loop):\n",
            "0 1 1 2 3 5 8 13 21 34 \n",
            "\n",
            "Fibonacci sequence (using next()):\n",
            "0 1 1 2 3 5 8 13 "
          ]
        }
      ]
    },
    {
      "cell_type": "markdown",
      "source": [
        "How the code works\n",
        "\n",
        "__init__(self, terms): The constructor takes the desired number of terms as input. It initializes a count to track the number of terms generated and sets the first two Fibonacci numbers, self.a and self.b, to 0 and 1, respectively.\n",
        "__iter__(self): This method returns self, fulfilling the requirement that the iterator object itself should be returned.\n",
        "\n",
        "__next__(self):\n",
        "\n",
        "It first checks if the count has reached the specified terms. If so, it raises the StopIteration exception, signaling the end of the sequence.\n",
        "It then handles the special cases for the first two terms of the sequence (0 and 1).\n",
        "\n",
        "For all subsequent terms, it calculates the next_fib number by adding self.a and self.b, updates self.a and self.b for the next iteration, and returns the next_fib value.\n",
        "\n",
        "Example Usage: The for loop is the most common way to consume an iterator. Python automatically calls the __iter__() and __next__() methods behind the scenes. The second example shows how to manually use next() to demonstrate how the iterator works explicitly."
      ],
      "metadata": {
        "id": "SMACMo6RYUC-"
      }
    },
    {
      "cell_type": "markdown",
      "source": [
        "#Q6. Write a generator function in Python that yields the powers of 2 up to a given exponent."
      ],
      "metadata": {
        "id": "JlKP9EJCZE47"
      }
    },
    {
      "cell_type": "markdown",
      "source": [
        "Ans. A generator function is an efficient way to produce a sequence of values in Python, especially when dealing with potentially large or infinite sequences. Instead of calculating all the values and returning them in a list at once, a generator uses the yield keyword to return one value at a time, pausing its state between calls.\n",
        "\n",
        "Here is a generator function that yields the powers of 2 up to a specified exponent.\n",
        "\n",
        "Python generator for powers of 2"
      ],
      "metadata": {
        "id": "6kY66iMRZbV-"
      }
    },
    {
      "cell_type": "code",
      "source": [
        "def powers_of_2_generator(exponent):\n",
        "    \"\"\"\n",
        "    Generates powers of 2 up to a given exponent.\n",
        "\n",
        "    Args:\n",
        "        exponent: An integer specifying the maximum power.\n",
        "                  The function will yield 2^0, 2^1, ..., 2^exponent.\n",
        "\n",
        "    Yields:\n",
        "        The next power of 2 in the sequence.\n",
        "    \"\"\"\n",
        "    if not isinstance(exponent, int) or exponent < 0:\n",
        "        raise ValueError(\"Exponent must be a non-negative integer.\")\n",
        "\n",
        "    power = 0\n",
        "    while power <= exponent:\n",
        "        yield 2 ** power\n",
        "        power += 1\n",
        "\n",
        "# Example usage\n",
        "# Create a generator object by calling the function\n",
        "powers_gen = powers_of_2_generator(5)\n",
        "\n",
        "# Iterate through the generator to print the values\n",
        "print(\"Powers of 2 up to exponent 5:\")\n",
        "for p in powers_gen:\n",
        "    print(p)\n",
        "\n",
        "print(\"\\nAnother example, this time using next()\")\n",
        "powers_gen_2 = powers_of_2_generator(3)\n",
        "print(next(powers_gen_2))  # Output: 1 (2^0)\n",
        "print(next(powers_gen_2))  # Output: 2 (2^1)\n",
        "print(next(powers_gen_2))  # Output: 4 (2^2)\n",
        "print(next(powers_gen_2))  # Output: 8 (2^3)\n",
        "\n",
        "try:\n",
        "    print(next(powers_gen_2))\n",
        "except StopIteration:\n",
        "    print(\"Generator exhausted.\")\n"
      ],
      "metadata": {
        "colab": {
          "base_uri": "https://localhost:8080/"
        },
        "id": "rvOOu29gZl3D",
        "outputId": "471f1e82-b5a1-40ef-b73e-52dfca02c1fa"
      },
      "execution_count": 4,
      "outputs": [
        {
          "output_type": "stream",
          "name": "stdout",
          "text": [
            "Powers of 2 up to exponent 5:\n",
            "1\n",
            "2\n",
            "4\n",
            "8\n",
            "16\n",
            "32\n",
            "\n",
            "Another example, this time using next()\n",
            "1\n",
            "2\n",
            "4\n",
            "8\n",
            "Generator exhausted.\n"
          ]
        }
      ]
    },
    {
      "cell_type": "markdown",
      "source": [
        "How the code works\n",
        "\n",
        "powers_of_2_generator(exponent): The function takes one argument, exponent, which determines how many terms will be generated.\n",
        "\n",
        "yield 2 ** power: When this line is executed, the function pauses and returns the value of 2 ** power. The state of the function, including the value of the power variable, is saved.\n",
        "\n",
        "power += 1: The next time next() is called on the generator object, the function resumes from where it left off. It increments the power variable and continues the loop.\n",
        "\n",
        "Loop Termination: The while loop continues until power exceeds the exponent. Once the loop is complete, the generator automatically raises a StopIteration exception, which is what signals to a for loop that the iteration is complete."
      ],
      "metadata": {
        "id": "RInJCV59ZrUm"
      }
    },
    {
      "cell_type": "markdown",
      "source": [
        "#Q7. Implement a generator function that reads a file line by line and yields each line as a string."
      ],
      "metadata": {
        "id": "I08iYen5Y8S2"
      }
    },
    {
      "cell_type": "markdown",
      "source": [
        "Ans. You can create a generator function to read a file line by line in Python. This is more memory-efficient than reading the entire file into a list, as the generator only holds one line in memory at a time.\n",
        "\n",
        "Here is how you can implement this with an example.\n",
        "\n",
        "Python generator for reading a file line by line\n",
        "The best practice for file handling is to use a with statement, which ensures the file is properly closed even if an error occurs."
      ],
      "metadata": {
        "id": "L8o2Vrc2ZurC"
      }
    },
    {
      "cell_type": "code",
      "source": [
        "import os\n",
        "\n",
        "def read_file_line_by_line(filepath):\n",
        "    \"\"\"\n",
        "    A generator function that reads a file line by line.\n",
        "\n",
        "    Args:\n",
        "        filepath: The path to the file to be read.\n",
        "\n",
        "    Yields:\n",
        "        str: A single line from the file.\n",
        "    \"\"\"\n",
        "    try:\n",
        "        with open(filepath, 'r') as file:\n",
        "            for line in file:\n",
        "                yield line\n",
        "    except FileNotFoundError:\n",
        "        print(f\"Error: The file at {filepath} was not found.\")\n",
        "    except Exception as e:\n",
        "        print(f\"An error occurred: {e}\")\n",
        "\n",
        "# --- Example Usage ---\n",
        "\n",
        "# 1. First, create a sample file for demonstration\n",
        "sample_content = \"\"\"This is the first line.\n",
        "This is the second line.\n",
        "This is the third line.\n",
        "And this is the final line.\"\"\"\n",
        "\n",
        "# The file will be created in the same directory as the script.\n",
        "file_path = \"sample_file.txt\"\n",
        "with open(file_path, \"w\") as f:\n",
        "    f.write(sample_content)\n",
        "\n",
        "# 2. Use the generator function to read the file\n",
        "print(\"Reading the file using the generator:\")\n",
        "file_generator = read_file_line_by_line(file_path)\n",
        "\n",
        "for line in file_generator:\n",
        "    # `line.strip()` removes leading/trailing whitespace, including the newline character\n",
        "    print(line.strip())\n",
        "\n",
        "# 3. Clean up the sample file\n",
        "os.remove(file_path)\n",
        "\n"
      ],
      "metadata": {
        "colab": {
          "base_uri": "https://localhost:8080/"
        },
        "id": "BE_K9PSpZ951",
        "outputId": "cfbcd10e-7a33-402c-e792-b315de987e35"
      },
      "execution_count": 5,
      "outputs": [
        {
          "output_type": "stream",
          "name": "stdout",
          "text": [
            "Reading the file using the generator:\n",
            "This is the first line.\n",
            "This is the second line.\n",
            "This is the third line.\n",
            "And this is the final line.\n"
          ]
        }
      ]
    },
    {
      "cell_type": "markdown",
      "source": [
        "How the code works\n",
        "\n",
        "read_file_line_by_line(filepath): This is the generator function that accepts a file path.\n",
        "with open(filepath, 'r') as file:: The with statement opens the file and assigns the file object to the variable file. Crucially, it ensures the file is automatically closed when the block is exited.\n",
        "for line in file:: Iterating directly over a file object is the most efficient way to read it line by line. Python handles the iteration, reading and yielding one line at a time.\n",
        "yield line: Instead of return, which would exit the function, the yield keyword produces the current line and pauses the function's execution. The next time a value is requested from the generator, it resumes from where it left off"
      ],
      "metadata": {
        "id": "KGhzsbaoaBm0"
      }
    },
    {
      "cell_type": "markdown",
      "source": [
        "#Q8. Use a lambda function in Python to sort a list of tuples based on the second element of each tuple."
      ],
      "metadata": {
        "id": "GJL59NXVaHXm"
      }
    },
    {
      "cell_type": "markdown",
      "source": [
        "Ans. 8. In Python, you can use a lambda function with the built-in sorted() function or the list.sort() method to sort a list of tuples based on a specific element. A lambda function is a small, anonymous function that takes one argument (in this case, each tuple) and returns a single expression (the element to sort by).\n",
        "\n",
        "Example using sorted()\n",
        "\n",
        "The sorted() function returns a new sorted list, leaving the original list unchanged."
      ],
      "metadata": {
        "id": "Hz7LSaQsaTiK"
      }
    },
    {
      "cell_type": "code",
      "source": [
        "# A list of tuples\n",
        "data = [('apple', 3), ('banana', 1), ('cherry', 2), ('grape', 4)]\n",
        "\n",
        "# Use sorted() with a lambda function to sort by the second element (index 1)\n",
        "sorted_data = sorted(data, key=lambda x: x[1])\n",
        "\n",
        "print(\"Original list:\", data)\n",
        "print(\"Sorted list:\", sorted_data)\n",
        "\n",
        "# You can also sort in descending order\n",
        "sorted_desc = sorted(data, key=lambda x: x[1], reverse=True)\n",
        "print(\"Sorted in descending order:\", sorted_desc)\n"
      ],
      "metadata": {
        "colab": {
          "base_uri": "https://localhost:8080/"
        },
        "id": "W3mZvDYJa9RY",
        "outputId": "3ceed4f3-02c7-4965-c9b0-f8ac441d0c3b"
      },
      "execution_count": 6,
      "outputs": [
        {
          "output_type": "stream",
          "name": "stdout",
          "text": [
            "Original list: [('apple', 3), ('banana', 1), ('cherry', 2), ('grape', 4)]\n",
            "Sorted list: [('banana', 1), ('cherry', 2), ('apple', 3), ('grape', 4)]\n",
            "Sorted in descending order: [('grape', 4), ('apple', 3), ('cherry', 2), ('banana', 1)]\n"
          ]
        }
      ]
    },
    {
      "cell_type": "markdown",
      "source": [
        "Example using list.sort()\n",
        "The list.sort() method sorts the list in place, modifying the original list directly without creating a new one."
      ],
      "metadata": {
        "id": "K_2M95MsbBhl"
      }
    },
    {
      "cell_type": "code",
      "source": [
        "# A list of tuples\n",
        "data = [('apple', 3), ('banana', 1), ('cherry', 2), ('grape', 4)]\n",
        "\n",
        "print(\"Original list before sorting:\", data)\n",
        "\n",
        "# Use sort() with a lambda function to sort by the second element (index 1)\n",
        "data.sort(key=lambda x: x[1])\n",
        "\n",
        "print(\"List after in-place sort:\", data)\n"
      ],
      "metadata": {
        "colab": {
          "base_uri": "https://localhost:8080/"
        },
        "id": "CFwMQNwPbCYn",
        "outputId": "50d904a3-f629-43e6-8861-ba28d043533e"
      },
      "execution_count": 7,
      "outputs": [
        {
          "output_type": "stream",
          "name": "stdout",
          "text": [
            "Original list before sorting: [('apple', 3), ('banana', 1), ('cherry', 2), ('grape', 4)]\n",
            "List after in-place sort: [('banana', 1), ('cherry', 2), ('apple', 3), ('grape', 4)]\n"
          ]
        }
      ]
    },
    {
      "cell_type": "markdown",
      "source": [
        "#Q9. Write a Python program that uses `map()` to convert a list of temperatures from Celsius to Fahrenheit."
      ],
      "metadata": {
        "id": "1pht7TyybGKB"
      }
    },
    {
      "cell_type": "markdown",
      "source": [
        "Ans. You can use Python's built-in map() function to apply a conversion formula to every item in a list. This is commonly done with a lambda function, a small, anonymous function ideal for simple, single-use operations. The formula to convert Celsius (\\(C\\)) to Fahrenheit (\\(F\\)) is\n",
        "\n",
        "(F=(C\\times 9/5)+32\\)\n",
        "\n",
        "Here is a Python program that demonstrates this conversion using map() and a lambda function.\n"
      ],
      "metadata": {
        "id": "zUDjTDbibKoF"
      }
    },
    {
      "cell_type": "code",
      "source": [
        "# A list of temperatures in Celsius\n",
        "celsius_temps = [0, 10, 20, 30, 40, 50, 100]\n",
        "\n",
        "# Use a lambda function with map() to apply the conversion formula\n",
        "# The map() function returns an iterator, so we convert it to a list\n",
        "# for easy printing.\n",
        "fahrenheit_temps = list(map(lambda c: (c * 9/5) + 32, celsius_temps))\n",
        "\n",
        "# Print the results\n",
        "print(\"Celsius temperatures:\", celsius_temps)\n",
        "print(\"Fahrenheit temperatures:\", fahrenheit_temps)\n"
      ],
      "metadata": {
        "colab": {
          "base_uri": "https://localhost:8080/"
        },
        "id": "1Rys9GHDbWZy",
        "outputId": "7bd5aa9f-895e-4fed-95ef-664b900be402"
      },
      "execution_count": 8,
      "outputs": [
        {
          "output_type": "stream",
          "name": "stdout",
          "text": [
            "Celsius temperatures: [0, 10, 20, 30, 40, 50, 100]\n",
            "Fahrenheit temperatures: [32.0, 50.0, 68.0, 86.0, 104.0, 122.0, 212.0]\n"
          ]
        }
      ]
    },
    {
      "cell_type": "markdown",
      "source": [
        "Explanation of the code\n",
        "\n",
        "celsius_temps: A list of integers representing temperatures in Celsius.\n",
        "map(lambda c: (c * 9/5) + 32, celsius_temps):\n",
        "lambda c: (c * 9/5) + 32: This is the anonymous lambda function. It takes one argument, c (representing a Celsius temperature), and returns the equivalent temperature in Fahrenheit.\n",
        "map(): This function takes the lambda function and the celsius_temps list as arguments. It applies the lambda function to each element in the list.\n",
        "list(...): The map() function returns a map object, which is an iterator. To view the results as a list, you must explicitly convert the map object to a list."
      ],
      "metadata": {
        "id": "g6c-UV6obbX4"
      }
    },
    {
      "cell_type": "markdown",
      "source": [
        "#Q10. Create a Python program that uses `filter()` to remove all the vowels from a given string."
      ],
      "metadata": {
        "id": "RBQF0O9YbeZD"
      }
    },
    {
      "cell_type": "markdown",
      "source": [
        "Ans. You can use Python's built-in filter() function along with a lambda function to remove vowels from a string. The filter() function constructs an iterator from elements of an iterable for which a function returns true.\n",
        "Here is a Python program that demonstrates how to achieve this:\n",
        "\n",
        "Python program to remove vowels using filter()"
      ],
      "metadata": {
        "id": "LZN2-CBZbmCC"
      }
    },
    {
      "cell_type": "code",
      "source": [
        "def remove_vowels_filter(input_string):\n",
        "    \"\"\"\n",
        "    Removes all vowels from a string using the filter() function.\n",
        "\n",
        "    Args:\n",
        "        input_string: The string to be processed.\n",
        "\n",
        "    Returns:\n",
        "        The new string with all vowels removed.\n",
        "    \"\"\"\n",
        "    # Define the set of vowels (case-insensitive)\n",
        "    vowels = \"aeiouAEIOU\"\n",
        "\n",
        "    # Use filter() with a lambda to keep characters that are NOT vowels\n",
        "    filtered_chars = filter(lambda char: char not in vowels, input_string)\n",
        "\n",
        "    # Join the filtered characters back into a string\n",
        "    return \"\".join(filtered_chars)\n",
        "\n",
        "# Example usage\n",
        "my_string = \"Hello World! This is a test string.\"\n",
        "new_string = remove_vowels_filter(my_string)\n",
        "\n",
        "print(f\"Original string: '{my_string}'\")\n",
        "print(f\"String with vowels removed: '{new_string}'\")\n"
      ],
      "metadata": {
        "colab": {
          "base_uri": "https://localhost:8080/"
        },
        "id": "A7rDiU5_brao",
        "outputId": "be0c203c-666f-4c08-84bb-b97a1b03b533"
      },
      "execution_count": 9,
      "outputs": [
        {
          "output_type": "stream",
          "name": "stdout",
          "text": [
            "Original string: 'Hello World! This is a test string.'\n",
            "String with vowels removed: 'Hll Wrld! Ths s  tst strng.'\n"
          ]
        }
      ]
    },
    {
      "cell_type": "markdown",
      "source": [
        "Explanation of the code\n",
        "vowels = \"aeiouAEIOU\": A string containing all vowels, both lowercase and uppercase, is defined for easy lookup.\n",
        "lambda char: char not in vowels: This is the core of the filtering logic.\n",
        "It's a small anonymous function that takes a single character char as input.\n",
        "It returns True if char is not in the vowels string, and False otherwise.\n",
        "filter(lambda ..., input_string): The filter() function applies the lambda function to every character in input_string. It keeps only the characters for which the lambda function returns True and discards the rest. The result is a filter object, which is an iterator.\n",
        "\"\".join(...): The join() string method is used to concatenate all the characters from the filter object back into a single string."
      ],
      "metadata": {
        "id": "Sut8SHd1buuJ"
      }
    },
    {
      "cell_type": "markdown",
      "source": [
        "#QImagine an accounting routine used in a book shop. It works on a list with sublists, which look like this:\n",
        "\n",
        "\n",
        "\n",
        "\n",
        "\n",
        "\n",
        "\n",
        "Write a Python program, which returns a list with 2-tuples. Each tuple consists of the order number and the\n",
        "product of the price per item and the quantity. The product should be increased by 10,- € if the value of the\n",
        "order is smaller than 100,00 €.\n",
        "\n",
        "Write a Python program using lambda and map."
      ],
      "metadata": {
        "id": "8BfyNcTmb1j8"
      }
    },
    {
      "cell_type": "markdown",
      "source": [
        "![WhatsApp Image 2025-10-03 at 15.08.54_043539a4.jpg](data:image/jpeg;base64,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)"
      ],
      "metadata": {
        "id": "5R2CsYLpcPij"
      }
    },
    {
      "cell_type": "markdown",
      "source": [
        "Ans. It appears you are requesting another Python programming problem. Based on the previous successful responses, here is a new task:\n",
        "\n",
        "Problem: Write a Python program that first uses filter() to select all the even numbers from a given list. Then, use map() to square each of the remaining numbers. The final output should be a list of the squares of only the even numbers.\n",
        "\n",
        "This task is an excellent way to practice chaining the powerful filter() and map() functions together.\n",
        "Python program combining filter() and map()"
      ],
      "metadata": {
        "id": "jxG8x8CkcZfr"
      }
    },
    {
      "cell_type": "code",
      "source": [
        "# A list of numbers\n",
        "numbers = [1, 2, 3, 4, 5, 6, 7, 8, 9, 10]\n",
        "\n",
        "# Use filter() to get only the even numbers\n",
        "# The filter function uses a lambda to return True for even numbers (x % 2 == 0)\n",
        "even_numbers_iterator = filter(lambda x: x % 2 == 0, numbers)\n",
        "\n",
        "# Use map() to square the numbers returned by the filter() iterator\n",
        "# The map function uses a lambda to return the square of each number (x ** 2)\n",
        "squared_even_numbers_iterator = map(lambda x: x ** 2, even_numbers_iterator)\n",
        "\n",
        "# Convert the final iterator to a list for printing\n",
        "final_list = list(squared_even_numbers_iterator)\n",
        "\n",
        "# Print the result\n",
        "print(\"Original list:\", numbers)\n",
        "print(\"List of squares of even numbers:\", final_list)\n",
        "\n",
        "# --- Concise, one-line version for advanced users ---\n",
        "# This demonstrates how the iterators can be chained directly\n",
        "concise_list = list(map(lambda x: x**2, filter(lambda x: x % 2 == 0, numbers)))\n",
        "print(\"Concise result:\", concise_list)\n"
      ],
      "metadata": {
        "colab": {
          "base_uri": "https://localhost:8080/"
        },
        "id": "0cw68bwacqhN",
        "outputId": "5eeee2b2-135f-4ae7-8eff-f47ef695342f"
      },
      "execution_count": 10,
      "outputs": [
        {
          "output_type": "stream",
          "name": "stdout",
          "text": [
            "Original list: [1, 2, 3, 4, 5, 6, 7, 8, 9, 10]\n",
            "List of squares of even numbers: [4, 16, 36, 64, 100]\n",
            "Concise result: [4, 16, 36, 64, 100]\n"
          ]
        }
      ]
    },
    {
      "cell_type": "markdown",
      "source": [
        "Explanation of the code\n",
        "\n",
        "Filtering: filter(lambda x: x % 2 == 0, numbers) is evaluated first. It iterates through the numbers list and creates an iterator containing only the numbers that are divisible by 2 (i.e., [2, 4, 6, 8, 10]).\n",
        "\n",
        "Mapping: The map(lambda x: x ** 2, even_numbers_iterator) function then takes the output of the filter() iterator. It squares each of those numbers one by one, producing a new iterator with the values [4, 16, 36, 64, 100].\n",
        "\n",
        "Final List: list() is used to convert the final map iterator into a list, which is then printed.\n",
        "\n",
        "This method is efficient because neither filter() nor map() creates a full intermediate list in memory. They both return iterators, processing the data lazily as it is needed."
      ],
      "metadata": {
        "id": "3cPYc_tVctyK"
      }
    }
  ]
}